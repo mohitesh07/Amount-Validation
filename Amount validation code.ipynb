{
 "cells": [
  {
   "cell_type": "code",
   "execution_count": 1,
   "metadata": {},
   "outputs": [
    {
     "name": "stdout",
     "output_type": "stream",
     "text": [
      "Enter AMOUNT in words:-\n",
      "Five thousand five hundred fiftyfive only\n",
      "\n",
      "Enter AMOUNT in figures:-\n",
      "Rs5555/-\n"
     ]
    }
   ],
   "source": [
    "# taking the inputs of amount in words and amount in figures\n",
    "print(\"Enter AMOUNT in words:-\")\n",
    "amt_words = list(input().split())\n",
    "amt_words = [w.lower() for w in amt_words]\n",
    "print() # giving line space\n",
    "\n",
    "print(\"Enter AMOUNT in figures:-\")\n",
    "amt_figures = input()"
   ]
  },
  {
   "cell_type": "code",
   "execution_count": 2,
   "metadata": {},
   "outputs": [],
   "source": [
    "# LOGIC PART\n",
    "d1 = {\n",
    "    'one': 1, 'two': 2, 'three': 3, 'four': 4, 'five': 5, 'six': 6, 'seven': 7, 'eight': 8, 'nine': 9, 'ten': 10,\n",
    "    'eleven': 11, 'twelve': 12, 'thirteen': 13, 'fourteen': 14, 'fifteen': 15, 'sixteen': 16, 'seventeen': 17, 'eighteen': 18, 'nineteen': 19, 'twenty': 20,\n",
    "    'twentyone': 21, 'twentytwo': 22, 'twentythree': 23, 'twentyfour': 24, 'twentyfive': 25, 'twentysix': 26, 'twentyseven': 27, 'twentyeight': 28, 'twentynine': 29, 'thirty': 30,\n",
    "    'thirtyone': 31, 'thirtytwo': 32, 'thirtythree': 33, 'thirtyfour': 34, 'thirtyfive': 35, 'thirtysix': 36, 'thirtyseven': 37, 'thirtyeight': 38, 'thirtynine': 39, 'fourty': 40,\n",
    "    'fortyone':41, 'fortytwo':42, 'fortythree':43, 'fortyfour':44, 'fortyfive':45, 'fortysix':46, 'fortyseven':47, 'fortyeight':48, 'fortynine':49, 'fifty':50, \n",
    "    'fiftyone': 51, 'fiftytwo': 52, 'fiftythree': 53, 'fiftyfour': 54, 'fiftyfive': 55, 'fiftysix': 56, 'fiftyseven': 57, 'fiftyeight': 58, 'fiftynine': 59, 'sixty': 60,\n",
    "    'sixtyone': 61, 'sixtytwo': 62, 'sixtythree': 63, 'sixtyfour': 64, 'sixtyfive': 65, 'sixtysix': 66, 'sixtyseven': 67, 'sixtyeight': 68, 'sixtynine': 69, 'seventy': 70,\n",
    "    'seventyone': 71, 'seventytwo': 72, 'seventythree': 73, 'seventyfour': 74, 'seventyfive': 75, 'seventysix': 76, 'seventyseven': 77, 'seventyeight': 78, 'seventynine': 79, 'eighty': 80,\n",
    "    'eightyone': 81, 'eightytwo': 82, 'eightythree': 83, 'eightyfour': 84, 'eightyfive': 85, 'eightysix': 86, 'eightyseven': 87, 'eightyeight': 88, 'eightynine': 89, 'ninety': 90,\n",
    "    'ninetyone': 91, 'ninetytwo': 92, 'ninetythree': 93, 'ninetyfour': 94, 'ninetyfive': 95, 'ninetysix': 96, 'ninetyseven': 97, 'ninetyeight': 98, 'ninetynine': 99,\n",
    "}\n",
    "\n",
    "d2 = {\n",
    "    'paisa':.01,\n",
    "    'hundred':100,\n",
    "    'thousand':1000,\n",
    "    'lakh':100000,\n",
    "    'crore':10000000,\n",
    "}"
   ]
  },
  {
   "cell_type": "code",
   "execution_count": 3,
   "metadata": {},
   "outputs": [],
   "source": [
    "# LOGIC PART\n",
    "amt = 0.0\n",
    "tmp = d1[amt_words[0]]\n",
    "for word in amt_words[1:]:\n",
    "    if word in d1:\n",
    "        amt = amt + tmp\n",
    "        tmp = d1[word]\n",
    "    elif word in d2:\n",
    "        tmp = tmp*d2[word]\n",
    "amt+=tmp"
   ]
  },
  {
   "cell_type": "code",
   "execution_count": 4,
   "metadata": {},
   "outputs": [],
   "source": [
    "# LOGIC PART\n",
    "amt_figures = amt_figures.lower()\n",
    "amt_figures = amt_figures.replace('rs','')\n",
    "amt_figures = amt_figures.replace('/-','')\n",
    "amt_figures = float(amt_figures)"
   ]
  },
  {
   "cell_type": "code",
   "execution_count": 5,
   "metadata": {},
   "outputs": [
    {
     "name": "stdout",
     "output_type": "stream",
     "text": [
      "They are the same thing\n"
     ]
    }
   ],
   "source": [
    "if amt==amt_figures:\n",
    "    print('They are the same thing')\n",
    "else:\n",
    "    print('They are different')"
   ]
  },
  {
   "cell_type": "code",
   "execution_count": null,
   "metadata": {},
   "outputs": [],
   "source": []
  }
 ],
 "metadata": {
  "kernelspec": {
   "display_name": "Python 3",
   "language": "python",
   "name": "python3"
  },
  "language_info": {
   "codemirror_mode": {
    "name": "ipython",
    "version": 3
   },
   "file_extension": ".py",
   "mimetype": "text/x-python",
   "name": "python",
   "nbconvert_exporter": "python",
   "pygments_lexer": "ipython3",
   "version": "3.7.0"
  }
 },
 "nbformat": 4,
 "nbformat_minor": 2
}
